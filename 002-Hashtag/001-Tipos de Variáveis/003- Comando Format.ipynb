{
 "cells": [
  {
   "cell_type": "markdown",
   "id": "36afb13c",
   "metadata": {},
   "source": [
    "# Comando Format"
   ]
  },
  {
   "cell_type": "code",
   "execution_count": 10,
   "id": "f69b9896",
   "metadata": {},
   "outputs": [
    {
     "name": "stdout",
     "output_type": "stream",
     "text": [
      "O faturamento da lja foi de 2000. O custo da loja foi de 500. Assim o licro da loja foi de 1500.\n"
     ]
    }
   ],
   "source": [
    "# Metodo format\n",
    "\n",
    "faturamento = 2000\n",
    "custo = 500\n",
    "lucro = faturamento - custo\n",
    "\n",
    "print(f'O faturamento da lja foi de {faturamento}. O custo da loja foi de {custo}. Assim o licro da loja foi de {lucro}.')"
   ]
  },
  {
   "cell_type": "code",
   "execution_count": null,
   "id": "9a6f070e",
   "metadata": {},
   "outputs": [],
   "source": [
    "# fim"
   ]
  }
 ],
 "metadata": {
  "kernelspec": {
   "display_name": "Python 3 (ipykernel)",
   "language": "python",
   "name": "python3"
  },
  "language_info": {
   "codemirror_mode": {
    "name": "ipython",
    "version": 3
   },
   "file_extension": ".py",
   "mimetype": "text/x-python",
   "name": "python",
   "nbconvert_exporter": "python",
   "pygments_lexer": "ipython3",
   "version": "3.9.12"
  }
 },
 "nbformat": 4,
 "nbformat_minor": 5
}
