{
 "cells": [
  {
   "cell_type": "markdown",
   "id": "653f86e8",
   "metadata": {},
   "source": [
    "## Lista de Estrutura Sequecial"
   ]
  },
  {
   "cell_type": "markdown",
   "id": "86b8b2a0",
   "metadata": {},
   "source": [
    "1. Faça um programa que mostre a mensagem (print) \"Alo mundo\" na tela"
   ]
  },
  {
   "cell_type": "code",
   "execution_count": 1,
   "id": "4e833212",
   "metadata": {},
   "outputs": [
    {
     "name": "stdout",
     "output_type": "stream",
     "text": [
      "Alô Mundo!!!\n"
     ]
    }
   ],
   "source": [
    "print(\"Alô Mundo!!!\")"
   ]
  },
  {
   "cell_type": "markdown",
   "id": "4a813d76",
   "metadata": {},
   "source": [
    "2. Faça um Programa que peça um número (input) e então mostre a mensagem: \"O número informado foi [número].\""
   ]
  },
  {
   "cell_type": "code",
   "execution_count": 2,
   "id": "606509d4",
   "metadata": {},
   "outputs": [
    {
     "name": "stdout",
     "output_type": "stream",
     "text": [
      "Informe um número: 12\n",
      "O número informado foi 12\n"
     ]
    }
   ],
   "source": [
    "numero = input(\"Informe um número: \")\n",
    "print(\"O número informado foi\", numero)"
   ]
  },
  {
   "cell_type": "markdown",
   "id": "97923bc1",
   "metadata": {},
   "source": [
    "3. Faça um Programa que peça dois números e imprima a soma."
   ]
  },
  {
   "cell_type": "code",
   "execution_count": 4,
   "id": "e2c5f8b3",
   "metadata": {},
   "outputs": [
    {
     "name": "stdout",
     "output_type": "stream",
     "text": [
      "Informe um número: 1\n",
      "Informe outro número: 2\n",
      "A soma dos dois números é:  3\n"
     ]
    }
   ],
   "source": [
    "n1 = int(input(\"Informe um número: \"))\n",
    "n2 = int(input(\"Informe outro número: \"))\n",
    "print(\"A soma dos dois números é: \", n1+n2)"
   ]
  },
  {
   "cell_type": "markdown",
   "id": "9d18dad9",
   "metadata": {},
   "source": [
    "4. Faça um Programa que peça as 4 notas bimestrais de um aluno e mostre a média de todas as notas."
   ]
  },
  {
   "cell_type": "code",
   "execution_count": 7,
   "id": "1217f028",
   "metadata": {},
   "outputs": [
    {
     "name": "stdout",
     "output_type": "stream",
     "text": [
      "Informa a 1ª nota: 1\n",
      "Informa a 2ª nota: 2\n",
      "Informa a 3ª nota: 3\n",
      "Informa a 4ª nota: 4\n",
      "A média de todas as notas é:  2.5\n"
     ]
    }
   ],
   "source": [
    "n1 = float(input(\"Informa a 1ª nota: \"))\n",
    "n2 = float(input(\"Informa a 2ª nota: \"))\n",
    "n3 = float(input(\"Informa a 3ª nota: \"))\n",
    "n4 = float(input(\"Informa a 4ª nota: \"))\n",
    "\n",
    "media = (n1+n2+n3+n4)/4\n",
    "\n",
    "print(\"A média de todas as notas é: \",media)\n"
   ]
  },
  {
   "cell_type": "markdown",
   "id": "f10b0a2d",
   "metadata": {},
   "source": [
    "5. Faça um Programa que converta metros para centímetros. Você pode pedir o comprimento em metros para o usuário (input)."
   ]
  },
  {
   "cell_type": "code",
   "execution_count": 24,
   "id": "5bd46948",
   "metadata": {},
   "outputs": [
    {
     "name": "stdout",
     "output_type": "stream",
     "text": [
      "Informe a quantidade de metros: 1\n",
      "O valor 1 em centimetros é: 100.00.\n"
     ]
    }
   ],
   "source": [
    "metros = int(input(\"Informe a quantidade de metros: \"))\n",
    "centimentros = metros / 0.010000\n",
    "print(f\"O valor {metros} em centimetros é: {centimentros:.2f}.\")"
   ]
  },
  {
   "cell_type": "markdown",
   "id": "664a0c1f",
   "metadata": {},
   "source": [
    "7. Faça um Programa que calcule a área de uma sala de um apartamento. Para isso, o seu programa precisa pedir a largura da sala, o comprimento da sala e imprimir a área em m² da sala."
   ]
  },
  {
   "cell_type": "code",
   "execution_count": 28,
   "id": "d725f154",
   "metadata": {},
   "outputs": [
    {
     "name": "stdout",
     "output_type": "stream",
     "text": [
      "Informa a largura da sala: 2\n",
      "Informa o comprimento da sala: 2\n",
      "4.00\n"
     ]
    }
   ],
   "source": [
    "larguda = float(input(\"Informa a largura da sala: \"))\n",
    "comprimento = float(input(\"Informa o comprimento da sala: \"))\n",
    "mq = larguda * comprimento\n",
    "print(f\"{mq:.2f}\")"
   ]
  },
  {
   "cell_type": "markdown",
   "id": "399c1b5e",
   "metadata": {},
   "source": [
    "8. Faça um Programa que pergunte quanto você ganha por hora e o número de horas trabalhadas no mês. Calcule e mostre o total do seu salário no referido mês."
   ]
  },
  {
   "cell_type": "code",
   "execution_count": 29,
   "id": "936e5503",
   "metadata": {},
   "outputs": [
    {
     "ename": "SyntaxError",
     "evalue": "invalid syntax (3651181659.py, line 1)",
     "output_type": "error",
     "traceback": [
      "\u001b[1;36m  Input \u001b[1;32mIn [29]\u001b[1;36m\u001b[0m\n\u001b[1;33m    valor_hora =\u001b[0m\n\u001b[1;37m                 ^\u001b[0m\n\u001b[1;31mSyntaxError\u001b[0m\u001b[1;31m:\u001b[0m invalid syntax\n"
     ]
    }
   ],
   "source": [
    "valor_hora = \n",
    "numero_horas =\n",
    "valor_extra = valor_hora * numero_horas\n"
   ]
  },
  {
   "cell_type": "markdown",
   "id": "e715126a",
   "metadata": {},
   "source": [
    "9. Vamos criar um conversor de temperatura. Faça um Programa que peça a temperatura em graus Fahrenheit, transforme e mostre a temperatura em graus Celsius.<p>\n",
    "$C = \\frac{5}{9}(F-32)$"
   ]
  },
  {
   "cell_type": "code",
   "execution_count": null,
   "id": "23a2cb43",
   "metadata": {},
   "outputs": [],
   "source": []
  },
  {
   "cell_type": "markdown",
   "id": "7fd279f6",
   "metadata": {},
   "source": [
    "10. Faça um Programa que peça a temperatura em graus Celsius, transforme e mostre em graus Fahrenheit.<p>\n",
    "$F = \\frac{9}{5}C + 32$"
   ]
  },
  {
   "cell_type": "code",
   "execution_count": null,
   "id": "7b2e813a",
   "metadata": {},
   "outputs": [],
   "source": []
  },
  {
   "cell_type": "markdown",
   "id": "53182286",
   "metadata": {},
   "source": [
    "12. Tendo como dados de entrada a altura (h) de uma pessoa, construa um algoritmo que calcule seu peso ideal, usando a seguinte fórmula:<p>\n",
    "$P = 72,7h - 58$\n",
    "\n",
    "Lembrando que \"algoritmo\" nada mais é do que um programa, como todos os outros que você vem fazendo"
   ]
  },
  {
   "cell_type": "code",
   "execution_count": null,
   "id": "48ef775c",
   "metadata": {},
   "outputs": [],
   "source": []
  },
  {
   "cell_type": "markdown",
   "id": "2936b4b6",
   "metadata": {},
   "source": [
    "13. Tendo como dado de entrada a altura (h) de uma pessoa, construa um algoritmo que calcule seu peso ideal, utilizando as seguintes fórmulas:<p>\n",
    "a. Para homens:  $P = 72,7h - 58$<p>\n",
    "b. Para mulheres:   $P = 62,1h - 44,7$"
   ]
  },
  {
   "cell_type": "code",
   "execution_count": null,
   "id": "70ae1a47",
   "metadata": {},
   "outputs": [],
   "source": []
  },
  {
   "cell_type": "markdown",
   "id": "33b36190",
   "metadata": {},
   "source": [
    "14. Faça um Programa que pergunte quanto você ganha por hora e o número de horas trabalhadas no mês."
   ]
  },
  {
   "cell_type": "code",
   "execution_count": null,
   "id": "f43b62c2",
   "metadata": {},
   "outputs": [],
   "source": []
  },
  {
   "cell_type": "code",
   "execution_count": 10,
   "id": "2dc74715",
   "metadata": {},
   "outputs": [],
   "source": [
    "# Calcule o salário bruto (horas * salario por hora)"
   ]
  },
  {
   "cell_type": "code",
   "execution_count": 11,
   "id": "d4fc4502",
   "metadata": {},
   "outputs": [],
   "source": [
    "# Calcule o desconto do IR (11% do salário bruto)"
   ]
  },
  {
   "cell_type": "code",
   "execution_count": 12,
   "id": "a8d0a419",
   "metadata": {},
   "outputs": [],
   "source": [
    "# Calcule o desconto do INSS (8% do salário bruto)"
   ]
  },
  {
   "cell_type": "code",
   "execution_count": 13,
   "id": "fb0ae737",
   "metadata": {},
   "outputs": [],
   "source": [
    "# Calcule o desconto do sindicato (5% do salário bruto)"
   ]
  },
  {
   "cell_type": "code",
   "execution_count": 14,
   "id": "d141631c",
   "metadata": {},
   "outputs": [],
   "source": [
    "# Calcule o salário líquido (salário bruto - descontos)"
   ]
  },
  {
   "cell_type": "markdown",
   "id": "0bbb4e33",
   "metadata": {},
   "source": [
    "15. Faça um programa para uma loja de tintas. O programa deverá pedir o tamanho em metros quadrados da área a ser pintada. Considere que a cobertura da tinta é de 1 litro para cada 3 metros quadrados e que a tinta é vendida em latas de 18 litros, que custam R$ 80,00. Informe ao usuário a quantidades de latas de tinta a serem compradas e o preço total. (para simplificação nesse momento, não se preocupe em arredondar a quantidade de latas a serem compradas - vamos trabalhar isso em breve)"
   ]
  },
  {
   "cell_type": "code",
   "execution_count": null,
   "id": "ad3ff01e",
   "metadata": {},
   "outputs": [],
   "source": []
  },
  {
   "cell_type": "markdown",
   "id": "dd5afd69",
   "metadata": {},
   "source": [
    "16. Faça um programa que peça o tamanho de um arquivo para download (em MB) e a velocidade de um link de Internet (em Mbps), calcule e informe o tempo aproximado de download do arquivo usando este link (em minutos).\n",
    "Detalhe: MB significa megabyte, Mb (com b minúsculo) significa megabit. Um megabit é 1/8 de um megabyte."
   ]
  },
  {
   "cell_type": "code",
   "execution_count": null,
   "id": "09b9d5af",
   "metadata": {},
   "outputs": [],
   "source": []
  }
 ],
 "metadata": {
  "kernelspec": {
   "display_name": "Python 3 (ipykernel)",
   "language": "python",
   "name": "python3"
  },
  "language_info": {
   "codemirror_mode": {
    "name": "ipython",
    "version": 3
   },
   "file_extension": ".py",
   "mimetype": "text/x-python",
   "name": "python",
   "nbconvert_exporter": "python",
   "pygments_lexer": "ipython3",
   "version": "3.9.12"
  },
  "vscode": {
   "interpreter": {
    "hash": "ad2bdc8ecc057115af97d19610ffacc2b4e99fae6737bb82f5d7fb13d2f2c186"
   }
  }
 },
 "nbformat": 4,
 "nbformat_minor": 5
}
