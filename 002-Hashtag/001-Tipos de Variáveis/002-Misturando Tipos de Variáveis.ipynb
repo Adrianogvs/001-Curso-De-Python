{
 "cells": [
  {
   "cell_type": "markdown",
   "id": "4320057e",
   "metadata": {},
   "source": [
    "# Misturando Tipos de Variáveis\n"
   ]
  },
  {
   "cell_type": "code",
   "execution_count": 5,
   "id": "d520389f",
   "metadata": {},
   "outputs": [
    {
     "name": "stdout",
     "output_type": "stream",
     "text": [
      "<class 'int'>\n",
      "O faturamento é de 1000\n"
     ]
    }
   ],
   "source": [
    "# Toda vez que for utilizar a concatenação tipo de variável string com outro tipo de variável que não seja String,\n",
    "# deve-se fazer a conversão antes, exemplo:\n",
    "\n",
    "faturamento = 1000\n",
    "print(type(faturamento))\n",
    "\n",
    "# A palavra \"faturamento\" é do tipo int, então se for concatenar com uma string, temos que utilizar o \"str\", exemplo:\n",
    "\n",
    "print('O faturamento é de ' + str(faturamento))"
   ]
  },
  {
   "cell_type": "code",
   "execution_count": null,
   "id": "4952dc36",
   "metadata": {},
   "outputs": [],
   "source": [
    "# fim"
   ]
  }
 ],
 "metadata": {
  "kernelspec": {
   "display_name": "Python 3 (ipykernel)",
   "language": "python",
   "name": "python3"
  },
  "language_info": {
   "codemirror_mode": {
    "name": "ipython",
    "version": 3
   },
   "file_extension": ".py",
   "mimetype": "text/x-python",
   "name": "python",
   "nbconvert_exporter": "python",
   "pygments_lexer": "ipython3",
   "version": "3.9.12"
  }
 },
 "nbformat": 4,
 "nbformat_minor": 5
}
