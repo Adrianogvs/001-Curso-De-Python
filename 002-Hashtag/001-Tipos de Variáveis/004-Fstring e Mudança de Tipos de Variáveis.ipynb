{
 "cells": [
  {
   "cell_type": "markdown",
   "id": "53972ed7",
   "metadata": {},
   "source": [
    "# Fstring e Mudança de Tipos de Variáveis"
   ]
  },
  {
   "cell_type": "markdown",
   "id": "595f5a4a",
   "metadata": {},
   "source": [
    "### F-string "
   ]
  },
  {
   "cell_type": "code",
   "execution_count": 4,
   "id": "abf96263",
   "metadata": {},
   "outputs": [
    {
     "name": "stdout",
     "output_type": "stream",
     "text": [
      "O faturamento foi de 1000 e o lucro foi de 600.\n",
      "O faturamento foi de 1000 e o lucro foi de 600.\n",
      "O faturamento foi de 1000 e o lucro foi de 600.\n"
     ]
    }
   ],
   "source": [
    "faturamento = 1000\n",
    "custo = 400\n",
    "\n",
    "lucro = faturamento - custo\n",
    "\n",
    "#com format\n",
    "print('O faturamento foi de {} e o lucro foi de {}.'.format(faturamento, lucro))\n",
    "\n",
    "#com f-string\n",
    "print(f'O faturamento foi de {faturamento} e o lucro foi de {lucro}.')\n",
    "\n",
    "#pode fazer contas dentros das {}, exemplo:\n",
    "print(f'O faturamento foi de {faturamento} e o lucro foi de {faturamento - custo}.')"
   ]
  },
  {
   "cell_type": "markdown",
   "id": "ebba2a4a",
   "metadata": {},
   "source": [
    "### Mudança de tipo de variáveis"
   ]
  },
  {
   "cell_type": "code",
   "execution_count": 10,
   "id": "ed2aa537",
   "metadata": {},
   "outputs": [
    {
     "name": "stdout",
     "output_type": "stream",
     "text": [
      "Insira o faturamento: 10\n",
      "Informe o custo: 2\n",
      "<class 'str'>\n",
      "<class 'str'>\n"
     ]
    },
    {
     "ename": "TypeError",
     "evalue": "unsupported operand type(s) for -: 'str' and 'str'",
     "output_type": "error",
     "traceback": [
      "\u001b[1;31m---------------------------------------------------------------------------\u001b[0m",
      "\u001b[1;31mTypeError\u001b[0m                                 Traceback (most recent call last)",
      "Input \u001b[1;32mIn [10]\u001b[0m, in \u001b[0;36m<cell line: 7>\u001b[1;34m()\u001b[0m\n\u001b[0;32m      4\u001b[0m \u001b[38;5;28mprint\u001b[39m(\u001b[38;5;28mtype\u001b[39m(faturamento))\n\u001b[0;32m      5\u001b[0m \u001b[38;5;28mprint\u001b[39m(\u001b[38;5;28mtype\u001b[39m(custo))\n\u001b[1;32m----> 7\u001b[0m lucro \u001b[38;5;241m=\u001b[39m \u001b[43mfaturamento\u001b[49m\u001b[43m \u001b[49m\u001b[38;5;241;43m-\u001b[39;49m\u001b[43m \u001b[49m\u001b[43mcusto\u001b[49m\n\u001b[0;32m      9\u001b[0m \u001b[38;5;28mprint\u001b[39m(lucro)\n",
      "\u001b[1;31mTypeError\u001b[0m: unsupported operand type(s) for -: 'str' and 'str'"
     ]
    }
   ],
   "source": [
    "# Neste formado irá apresentar erro, pois não é possível fazer calculos com string, \n",
    "# por padrão o \"input\" recebe os valores como string, por isso temos que converter.\n",
    "\n",
    "faturamento = input('Insira o faturamento: ')\n",
    "custo = input('Informe o custo: ')\n",
    "\n",
    "print(type(faturamento))\n",
    "print(type(custo))\n",
    "\n",
    "lucro = faturamento - custo\n",
    "\n",
    "print(lucro)\n",
    "\n",
    "# str -> muda para string\n",
    "# int -> muda para inteiro\n",
    "# float -> muda para float"
   ]
  },
  {
   "cell_type": "code",
   "execution_count": 11,
   "id": "a718fb50",
   "metadata": {},
   "outputs": [
    {
     "name": "stdout",
     "output_type": "stream",
     "text": [
      "Insira o faturamento: 10\n",
      "Informe o custo: 2\n",
      "<class 'int'>\n",
      "<class 'int'>\n",
      "8\n"
     ]
    }
   ],
   "source": [
    "# Forma correta de fazer cálculos com o uso do \"input\" é colocar o tipo de variável antes do \"input, exemplo:\n",
    "\n",
    "faturamento = int(input('Insira o faturamento: '))\n",
    "custo = int(input('Informe o custo: '))\n",
    "\n",
    "print(type(faturamento))\n",
    "print(type(custo))\n",
    "\n",
    "lucro = faturamento - custo\n",
    "\n",
    "print(lucro)\n",
    "\n",
    "# str -> muda para string\n",
    "# int -> muda para inteiro\n",
    "# float -> muda para float"
   ]
  },
  {
   "cell_type": "code",
   "execution_count": null,
   "id": "d8b0d217",
   "metadata": {},
   "outputs": [],
   "source": [
    "# fim"
   ]
  }
 ],
 "metadata": {
  "kernelspec": {
   "display_name": "Python 3 (ipykernel)",
   "language": "python",
   "name": "python3"
  },
  "language_info": {
   "codemirror_mode": {
    "name": "ipython",
    "version": 3
   },
   "file_extension": ".py",
   "mimetype": "text/x-python",
   "name": "python",
   "nbconvert_exporter": "python",
   "pygments_lexer": "ipython3",
   "version": "3.9.12"
  }
 },
 "nbformat": 4,
 "nbformat_minor": 5
}
