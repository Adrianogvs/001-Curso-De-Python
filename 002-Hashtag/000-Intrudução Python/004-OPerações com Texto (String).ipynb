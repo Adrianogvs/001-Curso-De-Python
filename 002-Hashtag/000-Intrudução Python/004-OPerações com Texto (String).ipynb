{
 "cells": [
  {
   "cell_type": "code",
   "execution_count": 1,
   "id": "77c008df",
   "metadata": {},
   "outputs": [
    {
     "name": "stdout",
     "output_type": "stream",
     "text": [
      "Meu nome é: Adriano\n"
     ]
    }
   ],
   "source": [
    "# Concatenação de String\n",
    "print('Meu nome é: ' + 'Adriano')"
   ]
  },
  {
   "cell_type": "code",
   "execution_count": 2,
   "id": "7763de44",
   "metadata": {},
   "outputs": [
    {
     "name": "stdout",
     "output_type": "stream",
     "text": [
      "True\n"
     ]
    }
   ],
   "source": [
    "# Utilizando o operador (IN) para verificar se algum texto esta contido, exemplo:\n",
    "print('Adriano' in 'Adriano')"
   ]
  },
  {
   "cell_type": "code",
   "execution_count": 3,
   "id": "a555b192",
   "metadata": {},
   "outputs": [
    {
     "name": "stdout",
     "output_type": "stream",
     "text": [
      "True\n"
     ]
    }
   ],
   "source": [
    "print('joga' in 'Adriano joga')"
   ]
  },
  {
   "cell_type": "code",
   "execution_count": null,
   "id": "343521f0",
   "metadata": {},
   "outputs": [],
   "source": []
  }
 ],
 "metadata": {
  "kernelspec": {
   "display_name": "Python 3 (ipykernel)",
   "language": "python",
   "name": "python3"
  },
  "language_info": {
   "codemirror_mode": {
    "name": "ipython",
    "version": 3
   },
   "file_extension": ".py",
   "mimetype": "text/x-python",
   "name": "python",
   "nbconvert_exporter": "python",
   "pygments_lexer": "ipython3",
   "version": "3.9.12"
  }
 },
 "nbformat": 4,
 "nbformat_minor": 5
}
