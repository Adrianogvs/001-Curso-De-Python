{
 "cells": [
  {
   "cell_type": "code",
   "execution_count": 1,
   "id": "93479f4b",
   "metadata": {},
   "outputs": [
    {
     "name": "stdout",
     "output_type": "stream",
     "text": [
      "Qual é o seu nome?\n",
      "Adriano\n",
      "\n",
      "Qual o seu sobrenome?\n",
      "Vilela\n"
     ]
    },
    {
     "data": {
      "text/plain": [
       "'Vilela'"
      ]
     },
     "execution_count": 1,
     "metadata": {},
     "output_type": "execute_result"
    }
   ],
   "source": [
    "#Usando o input é possível pegar os dados do usuário, exemplo:\n",
    "input('Qual é o seu nome?\\n')\n",
    "print('\\r')\n",
    "input('Qual o seu sobrenome?\\n')"
   ]
  },
  {
   "cell_type": "code",
   "execution_count": 2,
   "id": "346a30b1",
   "metadata": {},
   "outputs": [
    {
     "name": "stdout",
     "output_type": "stream",
     "text": [
      "Qual é o seu nome?\n",
      "Adriano\n",
      "Qual é o seu sobrenome?\n",
      "Vilela\n"
     ]
    }
   ],
   "source": [
    "#Forma correta de fazer é criar uma variável para receber o input, exemplo:\n",
    "nome = input('Qual é o seu nome?\\n')\n",
    "sobrenome = input('Qual é o seu sobrenome?\\n')"
   ]
  },
  {
   "cell_type": "code",
   "execution_count": 3,
   "id": "e292b6eb",
   "metadata": {},
   "outputs": [
    {
     "name": "stdout",
     "output_type": "stream",
     "text": [
      "Adriano Vilela\n"
     ]
    }
   ],
   "source": [
    "#Imprimindo o resultado informando no input\n",
    "print(nome + ' ' + sobrenome)"
   ]
  },
  {
   "cell_type": "code",
   "execution_count": null,
   "id": "4bb48ec8",
   "metadata": {},
   "outputs": [],
   "source": []
  }
 ],
 "metadata": {
  "kernelspec": {
   "display_name": "Python 3 (ipykernel)",
   "language": "python",
   "name": "python3"
  },
  "language_info": {
   "codemirror_mode": {
    "name": "ipython",
    "version": 3
   },
   "file_extension": ".py",
   "mimetype": "text/x-python",
   "name": "python",
   "nbconvert_exporter": "python",
   "pygments_lexer": "ipython3",
   "version": "3.9.12"
  }
 },
 "nbformat": 4,
 "nbformat_minor": 5
}
