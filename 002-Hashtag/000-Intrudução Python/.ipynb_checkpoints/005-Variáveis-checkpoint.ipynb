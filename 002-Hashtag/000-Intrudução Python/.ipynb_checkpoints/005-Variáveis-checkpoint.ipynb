{
 "cells": [
  {
   "cell_type": "code",
   "execution_count": 1,
   "id": "39e7361c",
   "metadata": {},
   "outputs": [],
   "source": [
    "#Podemos criar uma variável e atribuir a ela um valor, ou seja, é um nome que vamos dar para um número, exemplo:\n",
    "qtde_vendas = 1500\n",
    "nome = 'Adriano'"
   ]
  },
  {
   "cell_type": "code",
   "execution_count": 2,
   "id": "b230ba03",
   "metadata": {},
   "outputs": [
    {
     "name": "stdout",
     "output_type": "stream",
     "text": [
      "1500\n",
      "Adriano\n"
     ]
    }
   ],
   "source": [
    "#Imprimindo o valor da variável\n",
    "print(qtde_vendas)\n",
    "print(nome)"
   ]
  },
  {
   "cell_type": "code",
   "execution_count": null,
   "id": "f784382e",
   "metadata": {},
   "outputs": [],
   "source": []
  }
 ],
 "metadata": {
  "kernelspec": {
   "display_name": "Python 3 (ipykernel)",
   "language": "python",
   "name": "python3"
  },
  "language_info": {
   "codemirror_mode": {
    "name": "ipython",
    "version": 3
   },
   "file_extension": ".py",
   "mimetype": "text/x-python",
   "name": "python",
   "nbconvert_exporter": "python",
   "pygments_lexer": "ipython3",
   "version": "3.9.12"
  }
 },
 "nbformat": 4,
 "nbformat_minor": 5
}
