{
 "cells": [
  {
   "cell_type": "code",
   "execution_count": 1,
   "id": "a7f0505f",
   "metadata": {},
   "outputs": [
    {
     "name": "stdout",
     "output_type": "stream",
     "text": [
      "123\n"
     ]
    }
   ],
   "source": [
    "#Imprimindo um número qualquer\n",
    "print(123)"
   ]
  },
  {
   "cell_type": "code",
   "execution_count": 2,
   "id": "bdbf9a34",
   "metadata": {},
   "outputs": [
    {
     "name": "stdout",
     "output_type": "stream",
     "text": [
      "2\n"
     ]
    }
   ],
   "source": [
    "#Soma de dois números\n",
    "print(1+1)"
   ]
  },
  {
   "cell_type": "code",
   "execution_count": 3,
   "id": "90073134",
   "metadata": {},
   "outputs": [
    {
     "name": "stdout",
     "output_type": "stream",
     "text": [
      "4\n"
     ]
    }
   ],
   "source": [
    "#Multiplicação entre dois números\n",
    "print(2*2)"
   ]
  },
  {
   "cell_type": "code",
   "execution_count": 4,
   "id": "4443df14",
   "metadata": {},
   "outputs": [
    {
     "name": "stdout",
     "output_type": "stream",
     "text": [
      "1.0\n"
     ]
    }
   ],
   "source": [
    "#Divisão entre dois números\n",
    "print(2/2)"
   ]
  },
  {
   "cell_type": "code",
   "execution_count": 5,
   "id": "71851f6f",
   "metadata": {},
   "outputs": [
    {
     "name": "stdout",
     "output_type": "stream",
     "text": [
      "-2\n"
     ]
    }
   ],
   "source": [
    "#Subtração entre dois números\n",
    "print(2-4)"
   ]
  },
  {
   "cell_type": "code",
   "execution_count": 6,
   "id": "94ad41f2",
   "metadata": {},
   "outputs": [
    {
     "name": "stdout",
     "output_type": "stream",
     "text": [
      "4\n"
     ]
    }
   ],
   "source": [
    "#Potenciação entre dois números\n",
    "print(2**2)"
   ]
  },
  {
   "cell_type": "code",
   "execution_count": 7,
   "id": "43a2efd3",
   "metadata": {},
   "outputs": [
    {
     "name": "stdout",
     "output_type": "stream",
     "text": [
      "0\n"
     ]
    }
   ],
   "source": [
    "#Resto da divisão entre dois números\n",
    "print(2%2)"
   ]
  }
 ],
 "metadata": {
  "kernelspec": {
   "display_name": "Python 3 (ipykernel)",
   "language": "python",
   "name": "python3"
  },
  "language_info": {
   "codemirror_mode": {
    "name": "ipython",
    "version": 3
   },
   "file_extension": ".py",
   "mimetype": "text/x-python",
   "name": "python",
   "nbconvert_exporter": "python",
   "pygments_lexer": "ipython3",
   "version": "3.9.12"
  }
 },
 "nbformat": 4,
 "nbformat_minor": 5
}
